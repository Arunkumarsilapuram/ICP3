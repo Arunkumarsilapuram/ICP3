{
  "nbformat": 4,
  "nbformat_minor": 0,
  "metadata": {
    "colab": {
      "provenance": [],
      "authorship_tag": "ABX9TyNJXD6mooHmvBEyEUF55/1z",
      "include_colab_link": true
    },
    "kernelspec": {
      "name": "python3",
      "display_name": "Python 3"
    },
    "language_info": {
      "name": "python"
    }
  },
  "cells": [
    {
      "cell_type": "markdown",
      "metadata": {
        "id": "view-in-github",
        "colab_type": "text"
      },
      "source": [
        "<a href=\"https://colab.research.google.com/github/Arunkumarsilapuram/ICP3/blob/main/Untitled0.ipynb\" target=\"_parent\"><img src=\"https://colab.research.google.com/assets/colab-badge.svg\" alt=\"Open In Colab\"/></a>"
      ]
    },
    {
      "cell_type": "code",
      "execution_count": 1,
      "metadata": {
        "colab": {
          "base_uri": "https://localhost:8080/"
        },
        "id": "ZM1VjSyhpi5t",
        "outputId": "dbbfb2b8-6e9f-4a8f-81d7-c2f05064121f"
      },
      "outputs": [
        {
          "output_type": "stream",
          "name": "stdout",
          "text": [
            "Array shape: (3, 5)\n",
            "Array after replacing max in each row by 0:\n",
            "[[ 5  0  4  5  4]\n",
            " [ 6  9  5 10  0]\n",
            " [ 0 11  3  4 11]]\n",
            "\n",
            "Shape of the array: (4, 3)\n",
            "Type of the array: <class 'numpy.ndarray'>\n",
            "Data type of the array: int32\n"
          ]
        }
      ],
      "source": [
        "import numpy as np\n",
        "\n",
        "# Create random vector of size 15 with integers in the range 1-20\n",
        "random_vector = np.random.randint(1, 21, size=15)\n",
        "\n",
        "# Reshape the array to 3 by 5\n",
        "reshaped_array = random_vector.reshape(3, 5)\n",
        "\n",
        "# Print array shape\n",
        "print(\"Array shape:\", reshaped_array.shape)\n",
        "\n",
        "# Replace the max in each row by 0\n",
        "reshaped_array[np.arange(len(reshaped_array)), np.argmax(reshaped_array, axis=1)] = 0\n",
        "\n",
        "print(\"Array after replacing max in each row by 0:\")\n",
        "print(reshaped_array)\n",
        "\n",
        "# Create a 2-dimensional array of size 4 x 3 with 4-byte integer elements\n",
        "array_4x3 = np.random.randint(0, 1000, size=(4, 3), dtype=np.int32)\n",
        "\n",
        "# Print shape, type, and data type of the array\n",
        "print(\"\\nShape of the array:\", array_4x3.shape)\n",
        "print(\"Type of the array:\", type(array_4x3))\n",
        "print(\"Data type of the array:\", array_4x3.dtype)\n"
      ]
    },
    {
      "cell_type": "code",
      "source": [
        "import numpy as np\n",
        "\n",
        "# Define the square array\n",
        "array = np.array([[3, -2],\n",
        "                  [1, 0]])\n",
        "\n",
        "# Compute eigenvalues and eigenvectors\n",
        "eigenvalues, eigenvectors = np.linalg.eig(array)\n",
        "\n",
        "# Print the eigenvalues and right eigenvectors\n",
        "print(\"Eigenvalues:\")\n",
        "print(eigenvalues)\n",
        "print(\"\\nRight Eigenvectors:\")\n",
        "print(eigenvectors)"
      ],
      "metadata": {
        "colab": {
          "base_uri": "https://localhost:8080/"
        },
        "id": "a_TR81y0p7C0",
        "outputId": "239ad292-7199-4563-cead-b8bddd25bd40"
      },
      "execution_count": 2,
      "outputs": [
        {
          "output_type": "stream",
          "name": "stdout",
          "text": [
            "Eigenvalues:\n",
            "[2. 1.]\n",
            "\n",
            "Right Eigenvectors:\n",
            "[[0.89442719 0.70710678]\n",
            " [0.4472136  0.70710678]]\n"
          ]
        }
      ]
    },
    {
      "cell_type": "code",
      "source": [
        "import numpy as np\n",
        "\n",
        "# Define the array\n",
        "array = np.array([[0, 1, 2],\n",
        "                  [3, 4, 5]])\n",
        "\n",
        "# Compute the sum of diagonal elements\n",
        "diagonal_sum = np.trace(array)\n",
        "\n",
        "# Print the sum\n",
        "print(\"Sum of diagonal elements:\", diagonal_sum)\n"
      ],
      "metadata": {
        "colab": {
          "base_uri": "https://localhost:8080/"
        },
        "id": "BApdHeeVqBBy",
        "outputId": "ee0c1199-331b-4350-e940-0c206d00e077"
      },
      "execution_count": 3,
      "outputs": [
        {
          "output_type": "stream",
          "name": "stdout",
          "text": [
            "Sum of diagonal elements: 4\n"
          ]
        }
      ]
    },
    {
      "cell_type": "code",
      "source": [
        "import numpy as np\n",
        "\n",
        "# Define the arrays\n",
        "array1 = np.array([[1, 2],\n",
        "                   [3, 4],\n",
        "                   [5, 6]])\n",
        "\n",
        "array2 = np.array([[1, 2, 3],\n",
        "                   [4, 5, 6]])\n",
        "\n",
        "# Reshape array1 to 3x2\n",
        "reshaped_array1 = array1.reshape(3, 2)\n",
        "\n",
        "# Reshape array2 to 2x3\n",
        "reshaped_array2 = array2.reshape(2, 3)\n",
        "\n",
        "# Print the reshaped arrays\n",
        "print(\"Reshaped array1 (3x2):\")\n",
        "print(reshaped_array1)\n",
        "\n",
        "print(\"\\nReshaped array2 (2x3):\")\n",
        "print(reshaped_array2)\n"
      ],
      "metadata": {
        "colab": {
          "base_uri": "https://localhost:8080/"
        },
        "id": "yKss7N57qFdi",
        "outputId": "0d6d4e28-6901-4c04-f82a-657d011eabc1"
      },
      "execution_count": 4,
      "outputs": [
        {
          "output_type": "stream",
          "name": "stdout",
          "text": [
            "Reshaped array1 (3x2):\n",
            "[[1 2]\n",
            " [3 4]\n",
            " [5 6]]\n",
            "\n",
            "Reshaped array2 (2x3):\n",
            "[[1 2 3]\n",
            " [4 5 6]]\n"
          ]
        }
      ]
    }
  ]
}